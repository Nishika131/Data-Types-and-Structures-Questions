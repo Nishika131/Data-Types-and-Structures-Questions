{
  "nbformat": 4,
  "nbformat_minor": 0,
  "metadata": {
    "colab": {
      "provenance": []
    },
    "kernelspec": {
      "name": "python3",
      "display_name": "Python 3"
    },
    "language_info": {
      "name": "python"
    }
  },
  "cells": [
    {
      "cell_type": "markdown",
      "source": [
        "1. What are data structures, and why are they important?\n",
        "\n",
        "\n",
        "Data structures are ways of organizing and storing data efficiently. They are important because they help in accessing and manipulating data quickly and effectively.\n",
        "\n",
        "2. Explain the difference between mutable and immutable data types with examples.\n",
        "\n",
        "\n",
        "Mutable types (like lists, dictionaries) can be changed after creation, while immutable types (like strings, tuples) cannot. Example: list1 = [1, 2] is mutable; tuple1 = (1, 2) is immutable.\n",
        "\n",
        "3. What are the main differences between lists and tuples in Python?\n",
        "\n",
        "\n",
        "Lists are mutable and use square brackets [], while tuples are immutable and use parentheses (). Tuples are faster and used for fixed data.\n",
        "\n",
        "4. Describe how dictionaries store data.\n",
        "\n",
        "\n",
        "Dictionaries store data in key-value pairs using a hash table under the hood. Each key is hashed to determine where its value is stored.\n",
        "\n",
        "5. Why might you use a set instead of a list in Python?\n",
        "\n",
        "\n",
        "Sets are used when you need to store unique items and perform fast membership tests. Unlike lists, sets automatically eliminate duplicates.\n",
        "\n",
        "6. What is a string in Python, and how is it different from a list?\n",
        "\n",
        "\n",
        "A string is a sequence of characters and is immutable, while a list is a mutable sequence that can contain different types of elements.\n",
        "\n",
        "7. How do tuples ensure data integrity in Python?\n",
        "\n",
        "\n",
        "Tuples are immutable, so once created, their contents cannot change. This ensures that the data remains consistent throughout the program.\n",
        "\n",
        "8. What is a hash table, and how does it relate to dictionaries in Python?\n",
        "\n",
        "\n",
        "A hash table is a data structure that maps keys to values using a hash function. Python dictionaries use hash tables to enable fast lookups.\n",
        "\n",
        "9. Can lists contain different data types in Python?\n",
        "\n",
        "\n",
        "Yes, Python lists can contain elements of different data types like integers, strings, or even other lists and objects.\n",
        "\n",
        "10. Explain why strings are immutable in Python.\n",
        "\n",
        "\n",
        "Strings are immutable to improve performance and ensure security, especially when used as keys in dictionaries or in multi-threaded environments.\n",
        "\n",
        "11. What advantages do dictionaries offer over lists for certain tasks?\n",
        "\n",
        "\n",
        "Dictionaries offer fast access to data via keys, making them ideal for lookups, mappings, and when associating specific labels with values.\n",
        "\n",
        "12. Describe a scenario where using a tuple would be preferable over a list.\n",
        "\n",
        "\n",
        "Use a tuple when the data shouldn’t change, like storing coordinates (x, y) or passing fixed arguments to a function.\n",
        "\n",
        "13. How do sets handle duplicate values in Python?\n",
        "\n",
        "\n",
        "Sets automatically remove duplicate values. Adding a duplicate element has no effect on the set.\n",
        "\n",
        "14. How does the “in” keyword work differently for lists and dictionaries?\n",
        "\n",
        "\n",
        "For lists, \"in\" checks if a value exists. For dictionaries, it checks if a key exists (not the value).\n",
        "\n",
        "15. Can you modify the elements of a tuple? Explain why or why not.\n",
        "\n",
        "\n",
        "No, tuples are immutable, so their elements cannot be changed after creation. This makes them hashable and suitable as dictionary keys.\n",
        "\n",
        "16. What is a nested dictionary, and give an example of its use case.\n",
        "\n",
        "\n",
        "A nested dictionary contains dictionaries inside another dictionary. Example: student = {\"name\": \"A\", \"marks\": {\"math\": 90, \"eng\": 85}}.\n",
        "\n",
        "17. Describe the time complexity of accessing elements in a dictionary.\n",
        "\n",
        "\n",
        "Accessing elements in a dictionary is on average O(1) due to its hash table implementation.\n",
        "\n",
        "18. In what situations are lists preferred over dictionaries?\n",
        "\n",
        "\n",
        "Lists are preferred when you need ordered, indexed data or when the relationship between elements isn’t based on key-value pairs.\n",
        "\n",
        "19. Why are dictionaries considered unordered, and how does that affect data retrieval?\n",
        "\n",
        "\n",
        "Dictionaries used to be unordered before Python 3.7. Now they maintain insertion order, but still, retrieval is based on keys, not position.\n",
        "\n",
        "20. Explain the difference between a list and a dictionary in terms of data retrieval.\n",
        "\n",
        "\n",
        "Lists retrieve data by index (position), while dictionaries retrieve data using keys. Dictionary lookups are typically faster.\n",
        "\n"
      ],
      "metadata": {
        "id": "wVO7h4XeoNm-"
      }
    },
    {
      "cell_type": "code",
      "source": [
        "#practical questions\n",
        "\n",
        "# Q1: Write a code to create a string with your name and print it\n",
        "# Answer: Create a string variable with your name and print it.\n",
        "name = \"Nishika Yadav\"\n",
        "print(name)\n"
      ],
      "metadata": {
        "colab": {
          "base_uri": "https://localhost:8080/"
        },
        "id": "5MvfhwTMpUAw",
        "outputId": "4c3b1841-83ef-4599-b4b0-94aacce8cde3"
      },
      "execution_count": 2,
      "outputs": [
        {
          "output_type": "stream",
          "name": "stdout",
          "text": [
            "Nishika Yadav\n"
          ]
        }
      ]
    },
    {
      "cell_type": "code",
      "source": [
        "# Q2: Write a code to find the length of the string \"Hello World\"\n",
        "# Answer: Use the built-in len() function to get the length of the string.\n",
        "text = \"Hello World\"\n",
        "print(len(text))\n"
      ],
      "metadata": {
        "colab": {
          "base_uri": "https://localhost:8080/"
        },
        "id": "lcSGkqXspYGm",
        "outputId": "8aa23e52-7cb4-44fe-a1e8-06a3d254e328"
      },
      "execution_count": 3,
      "outputs": [
        {
          "output_type": "stream",
          "name": "stdout",
          "text": [
            "11\n"
          ]
        }
      ]
    },
    {
      "cell_type": "code",
      "source": [
        "# Q3: Write a code to slice the first 3 characters from the string \"Python Programming\"\n",
        "# Answer: Use slicing to extract the first 3 characters.\n",
        "s = \"Python Programming\"\n",
        "print(s[:3])\n"
      ],
      "metadata": {
        "colab": {
          "base_uri": "https://localhost:8080/"
        },
        "id": "HnT5GUl5pb2f",
        "outputId": "6af18e04-7914-45f5-8d9a-dba72a104e3a"
      },
      "execution_count": 4,
      "outputs": [
        {
          "output_type": "stream",
          "name": "stdout",
          "text": [
            "Pyt\n"
          ]
        }
      ]
    },
    {
      "cell_type": "code",
      "source": [
        "# Q4: Write a code to convert the string \"hello\" to uppercase\n",
        "# Answer: Use the upper() method to convert to uppercase.\n",
        "word = \"hello\"\n",
        "print(word.upper())\n"
      ],
      "metadata": {
        "colab": {
          "base_uri": "https://localhost:8080/"
        },
        "id": "7X6_b7Xvpf87",
        "outputId": "7c961fc6-b579-4ce6-b060-bca35d942bfa"
      },
      "execution_count": 5,
      "outputs": [
        {
          "output_type": "stream",
          "name": "stdout",
          "text": [
            "HELLO\n"
          ]
        }
      ]
    },
    {
      "cell_type": "code",
      "source": [
        "# Q5: Write a code to replace the word \"apple\" with \"orange\" in the string \"I like apple\"\n",
        "# Answer: Use the replace() method on the string.\n",
        "s = \"I like apple\"\n",
        "print(s.replace(\"apple\", \"orange\"))\n"
      ],
      "metadata": {
        "colab": {
          "base_uri": "https://localhost:8080/"
        },
        "id": "ZmpREKoXpjCd",
        "outputId": "837c741d-be24-4403-9602-b2070d3c32d0"
      },
      "execution_count": 6,
      "outputs": [
        {
          "output_type": "stream",
          "name": "stdout",
          "text": [
            "I like orange\n"
          ]
        }
      ]
    },
    {
      "cell_type": "code",
      "source": [
        "# Q6: Write a code to create a list with numbers 1 to 5 and print it\n",
        "# Answer: Use square brackets to create a list with numbers 1 to 5.\n",
        "nums = [1, 2, 3, 4, 5]\n",
        "print(nums)\n"
      ],
      "metadata": {
        "colab": {
          "base_uri": "https://localhost:8080/"
        },
        "id": "-tQoSvC7pmFf",
        "outputId": "f19354a2-9c9b-4456-fbfc-248a610484d0"
      },
      "execution_count": 7,
      "outputs": [
        {
          "output_type": "stream",
          "name": "stdout",
          "text": [
            "[1, 2, 3, 4, 5]\n"
          ]
        }
      ]
    },
    {
      "cell_type": "code",
      "source": [
        "# Q7: Write a code to append the number 10 to the list [1, 2, 3, 4]\n",
        "# Answer: Use the append() method to add 10 to the list.\n",
        "my_list = [1, 2, 3, 4]\n",
        "my_list.append(10)\n",
        "print(my_list)\n"
      ],
      "metadata": {
        "colab": {
          "base_uri": "https://localhost:8080/"
        },
        "id": "A6oI6mTLpooG",
        "outputId": "d59e2da5-b690-4967-8c44-5e7f64fcda73"
      },
      "execution_count": 8,
      "outputs": [
        {
          "output_type": "stream",
          "name": "stdout",
          "text": [
            "[1, 2, 3, 4, 10]\n"
          ]
        }
      ]
    },
    {
      "cell_type": "code",
      "source": [
        "# Q8: Write a code to remove the number 3 from the list [1, 2, 3, 4, 5]\n",
        "# Answer: Use the remove() method to delete a specific value.\n",
        "my_list = [1, 2, 3, 4, 5]\n",
        "my_list.remove(3)\n",
        "print(my_list)\n"
      ],
      "metadata": {
        "colab": {
          "base_uri": "https://localhost:8080/"
        },
        "id": "ZonPLDlYprOQ",
        "outputId": "8cef2ab6-9150-4e75-c86a-ec1b27042ee4"
      },
      "execution_count": 9,
      "outputs": [
        {
          "output_type": "stream",
          "name": "stdout",
          "text": [
            "[1, 2, 4, 5]\n"
          ]
        }
      ]
    },
    {
      "cell_type": "code",
      "source": [
        "# Q9: Write a code to access the second element in the list ['a', 'b', 'c', 'd']\n",
        "# Answer: Use indexing to get the second element (index 1).\n",
        "letters = ['a', 'b', 'c', 'd']\n",
        "print(letters[1])\n"
      ],
      "metadata": {
        "colab": {
          "base_uri": "https://localhost:8080/"
        },
        "id": "lu9d1JQHpttV",
        "outputId": "c37e56e6-4035-4183-89d6-d5e216cbc21d"
      },
      "execution_count": 10,
      "outputs": [
        {
          "output_type": "stream",
          "name": "stdout",
          "text": [
            "b\n"
          ]
        }
      ]
    },
    {
      "cell_type": "code",
      "source": [
        "# Q10: Write a code to reverse the list [10, 20, 30, 40, 50]\n",
        "# Answer: Use the reverse() method or slicing to reverse the list.\n",
        "my_list = [10, 20, 30, 40, 50]\n",
        "my_list.reverse()\n",
        "print(my_list)\n",
        "# OR use: print(my_list[::-1]) for a reversed copy\n"
      ],
      "metadata": {
        "colab": {
          "base_uri": "https://localhost:8080/"
        },
        "id": "tEnWO3popwIl",
        "outputId": "f8192c6f-9d0d-4ac3-bc49-7b8de3a1468c"
      },
      "execution_count": 11,
      "outputs": [
        {
          "output_type": "stream",
          "name": "stdout",
          "text": [
            "[50, 40, 30, 20, 10]\n"
          ]
        }
      ]
    },
    {
      "cell_type": "code",
      "source": [
        "# Q11: Write a code to create a tuple with the elements 100, 200, 300 and print it\n",
        "# Answer: Tuples are defined using parentheses.\n",
        "t = (100, 200, 300)\n",
        "print(t)\n"
      ],
      "metadata": {
        "colab": {
          "base_uri": "https://localhost:8080/"
        },
        "id": "e2JsKqKgp7Mr",
        "outputId": "b723fd11-986e-4921-9f07-f897e714ba76"
      },
      "execution_count": 12,
      "outputs": [
        {
          "output_type": "stream",
          "name": "stdout",
          "text": [
            "(100, 200, 300)\n"
          ]
        }
      ]
    },
    {
      "cell_type": "code",
      "source": [
        "# Q12: Write a code to access the second-to-last element of the tuple ('red', 'green', 'blue', 'yellow')\n",
        "# Answer: Use negative indexing to access second-to-last element.\n",
        "colors = ('red', 'green', 'blue', 'yellow')\n",
        "print(colors[-2])\n"
      ],
      "metadata": {
        "colab": {
          "base_uri": "https://localhost:8080/"
        },
        "id": "P3wHdUswp8VI",
        "outputId": "8d2a04d4-5eb9-4b2e-a926-83ef7af151cb"
      },
      "execution_count": 13,
      "outputs": [
        {
          "output_type": "stream",
          "name": "stdout",
          "text": [
            "blue\n"
          ]
        }
      ]
    },
    {
      "cell_type": "code",
      "source": [
        "# Q13: Write a code to find the minimum number in the tuple (10, 20, 5, 15)\n",
        "# Answer: Use the min() function.\n",
        "nums = (10, 20, 5, 15)\n",
        "print(min(nums))\n"
      ],
      "metadata": {
        "colab": {
          "base_uri": "https://localhost:8080/"
        },
        "id": "_dQpptOop-aY",
        "outputId": "39f98d60-7540-418d-e5fa-b67797bb676b"
      },
      "execution_count": 14,
      "outputs": [
        {
          "output_type": "stream",
          "name": "stdout",
          "text": [
            "5\n"
          ]
        }
      ]
    },
    {
      "cell_type": "code",
      "source": [
        "# Q14: Write a code to find the index of the element \"cat\" in the tuple ('dog', 'cat', 'rabbit')\n",
        "# Answer: Use the index() method.\n",
        "animals = ('dog', 'cat', 'rabbit')\n",
        "print(animals.index(\"cat\"))\n"
      ],
      "metadata": {
        "colab": {
          "base_uri": "https://localhost:8080/"
        },
        "id": "f5Ij7-Q8qC-J",
        "outputId": "170d768f-2526-4fb6-ddfa-4616297feb95"
      },
      "execution_count": 15,
      "outputs": [
        {
          "output_type": "stream",
          "name": "stdout",
          "text": [
            "1\n"
          ]
        }
      ]
    },
    {
      "cell_type": "code",
      "source": [
        "# Q15: Write a code to create a tuple containing three different fruits and check if \"kiwi\" is in it\n",
        "# Answer: Use the \"in\" keyword to check for membership.\n",
        "fruits = (\"apple\", \"banana\", \"mango\")\n",
        "print(\"kiwi\" in fruits)\n"
      ],
      "metadata": {
        "colab": {
          "base_uri": "https://localhost:8080/"
        },
        "id": "fHppHVSYqFja",
        "outputId": "e8f2e7a8-e355-491e-e55d-ab13b997a851"
      },
      "execution_count": 16,
      "outputs": [
        {
          "output_type": "stream",
          "name": "stdout",
          "text": [
            "False\n"
          ]
        }
      ]
    },
    {
      "cell_type": "code",
      "source": [
        "# Q16: Write a code to create a set with the elements 'a', 'b', 'c' and print it\n",
        "# Answer: Use curly braces or the set() constructor.\n",
        "s = {'a', 'b', 'c'}\n",
        "print(s)\n"
      ],
      "metadata": {
        "colab": {
          "base_uri": "https://localhost:8080/"
        },
        "id": "p17Ov6_wqQnF",
        "outputId": "ca710f13-313a-44e4-d622-c173b450b250"
      },
      "execution_count": 17,
      "outputs": [
        {
          "output_type": "stream",
          "name": "stdout",
          "text": [
            "{'c', 'a', 'b'}\n"
          ]
        }
      ]
    },
    {
      "cell_type": "code",
      "source": [
        "# Q17: Write a code to clear all elements from the set {1, 2, 3, 4, 5}\n",
        "# Answer: Use the clear() method to remove all items.\n",
        "s = {1, 2, 3, 4, 5}\n",
        "s.clear()\n",
        "print(s)\n"
      ],
      "metadata": {
        "colab": {
          "base_uri": "https://localhost:8080/"
        },
        "id": "gkHroXhRqTQC",
        "outputId": "70f3691f-be2f-426e-cefa-aa07f574a196"
      },
      "execution_count": 18,
      "outputs": [
        {
          "output_type": "stream",
          "name": "stdout",
          "text": [
            "set()\n"
          ]
        }
      ]
    },
    {
      "cell_type": "code",
      "source": [
        "# Q18: Write a code to remove the element 4 from the set {1, 2, 3, 4}\n",
        "# Answer: Use remove() or discard().\n",
        "s = {1, 2, 3, 4}\n",
        "s.remove(4)\n",
        "print(s)\n"
      ],
      "metadata": {
        "colab": {
          "base_uri": "https://localhost:8080/"
        },
        "id": "Pm4alFZDqV7P",
        "outputId": "b247611c-3866-4fea-8960-dc996df3a28c"
      },
      "execution_count": 19,
      "outputs": [
        {
          "output_type": "stream",
          "name": "stdout",
          "text": [
            "{1, 2, 3}\n"
          ]
        }
      ]
    },
    {
      "cell_type": "code",
      "source": [
        "# Q19: Write a code to find the union of two sets {1, 2, 3} and {3, 4, 5}\n",
        "# Answer: Use the union() method or \"|\" operator.\n",
        "a = {1, 2, 3}\n",
        "b = {3, 4, 5}\n",
        "print(a.union(b))\n"
      ],
      "metadata": {
        "colab": {
          "base_uri": "https://localhost:8080/"
        },
        "id": "5tfX-ihIqY1O",
        "outputId": "ef5dcf1a-21bc-4f0a-9648-d51e67983431"
      },
      "execution_count": 20,
      "outputs": [
        {
          "output_type": "stream",
          "name": "stdout",
          "text": [
            "{1, 2, 3, 4, 5}\n"
          ]
        }
      ]
    },
    {
      "cell_type": "code",
      "source": [
        "# Q20: Write a code to find the intersection of two sets {1, 2, 3} and {2, 3, 4}\n",
        "# Answer: Use intersection() or \"&\".\n",
        "a = {1, 2, 3}\n",
        "b = {2, 3, 4}\n",
        "print(a.intersection(b))\n"
      ],
      "metadata": {
        "colab": {
          "base_uri": "https://localhost:8080/"
        },
        "id": "UsMhCFFYqbva",
        "outputId": "2f33e106-4ee1-4f84-a033-95653282c292"
      },
      "execution_count": 21,
      "outputs": [
        {
          "output_type": "stream",
          "name": "stdout",
          "text": [
            "{2, 3}\n"
          ]
        }
      ]
    },
    {
      "cell_type": "code",
      "source": [
        "# Q21: Write a code to create a dictionary with the keys \"name\", \"age\", and \"city\", and print it\n",
        "# Answer: Use curly braces and key-value pairs.\n",
        "person = {\"name\": \"John\", \"age\": 25, \"city\": \"New York\"}\n",
        "print(person)\n"
      ],
      "metadata": {
        "colab": {
          "base_uri": "https://localhost:8080/"
        },
        "id": "3HjiHLumqedL",
        "outputId": "b78d5fc2-0f44-42b7-9bd9-72a8946313ac"
      },
      "execution_count": 22,
      "outputs": [
        {
          "output_type": "stream",
          "name": "stdout",
          "text": [
            "{'name': 'John', 'age': 25, 'city': 'New York'}\n"
          ]
        }
      ]
    },
    {
      "cell_type": "code",
      "source": [
        "# Q22: Write a code to add a new key-value pair \"country\": \"USA\" to the dictionary {'name': 'John', 'age': 25}\n",
        "# Answer: Use assignment to add a new key-value.\n",
        "d = {'name': 'John', 'age': 25}\n",
        "d[\"country\"] = \"USA\"\n",
        "print(d)\n"
      ],
      "metadata": {
        "colab": {
          "base_uri": "https://localhost:8080/"
        },
        "id": "8iUNzy45qhfL",
        "outputId": "7115148d-0756-4da6-9f30-061f1ea5a03d"
      },
      "execution_count": 23,
      "outputs": [
        {
          "output_type": "stream",
          "name": "stdout",
          "text": [
            "{'name': 'John', 'age': 25, 'country': 'USA'}\n"
          ]
        }
      ]
    },
    {
      "cell_type": "code",
      "source": [
        "# Q23: Write a code to access the value associated with the key \"name\" in the dictionary {'name': 'Alice', 'age': 30}\n",
        "# Answer: Use square brackets or get() method.\n",
        "d = {'name': 'Alice', 'age': 30}\n",
        "print(d['name'])\n"
      ],
      "metadata": {
        "colab": {
          "base_uri": "https://localhost:8080/"
        },
        "id": "ifIAcmK9qlJL",
        "outputId": "932d28ed-e39f-401c-e2e7-847cffd2d547"
      },
      "execution_count": 24,
      "outputs": [
        {
          "output_type": "stream",
          "name": "stdout",
          "text": [
            "Alice\n"
          ]
        }
      ]
    },
    {
      "cell_type": "code",
      "source": [
        "# Q24: Write a code to remove the key \"age\" from the dictionary {'name': 'Bob', 'age': 22, 'city': 'New York'}\n",
        "# Answer: Use the pop() or del keyword.\n",
        "d = {'name': 'Bob', 'age': 22, 'city': 'New York'}\n",
        "d.pop('age')\n",
        "print(d)\n"
      ],
      "metadata": {
        "colab": {
          "base_uri": "https://localhost:8080/"
        },
        "id": "-ixLjvP7qnQV",
        "outputId": "b3362e47-dba1-4ec5-ba55-a0d45dad95bb"
      },
      "execution_count": 25,
      "outputs": [
        {
          "output_type": "stream",
          "name": "stdout",
          "text": [
            "{'name': 'Bob', 'city': 'New York'}\n"
          ]
        }
      ]
    },
    {
      "cell_type": "code",
      "source": [
        "# Q25: Write a code to check if the key \"city\" exists in the dictionary {'name': 'Alice', 'city': 'Paris'}\n",
        "# Answer: Use the \"in\" keyword for key lookup.\n",
        "d = {'name': 'Alice', 'city': 'Paris'}\n",
        "print(\"city\" in d)\n"
      ],
      "metadata": {
        "colab": {
          "base_uri": "https://localhost:8080/"
        },
        "id": "C0zSdaVdqqf8",
        "outputId": "8200f161-8264-4f91-f5e7-2ccf4f815075"
      },
      "execution_count": 26,
      "outputs": [
        {
          "output_type": "stream",
          "name": "stdout",
          "text": [
            "True\n"
          ]
        }
      ]
    },
    {
      "cell_type": "code",
      "source": [
        "# Q26: Write a code to create a list, a tuple, and a dictionary, and print them all\n",
        "# Answer: Create each type and print.\n",
        "my_list = [1, 2, 3]\n",
        "my_tuple = (4, 5, 6)\n",
        "my_dict = {\"a\": 10, \"b\": 20}\n",
        "print(my_list)\n",
        "print(my_tuple)\n",
        "print(my_dict)\n"
      ],
      "metadata": {
        "colab": {
          "base_uri": "https://localhost:8080/"
        },
        "id": "EmzfhdSXquLH",
        "outputId": "31212452-3d5b-405e-e546-de77c3cf11d6"
      },
      "execution_count": 27,
      "outputs": [
        {
          "output_type": "stream",
          "name": "stdout",
          "text": [
            "[1, 2, 3]\n",
            "(4, 5, 6)\n",
            "{'a': 10, 'b': 20}\n"
          ]
        }
      ]
    },
    {
      "cell_type": "code",
      "source": [
        "# Q27: Write a code to create a list of 5 random numbers between 1 and 100, sort it in ascending order, and print the result\n",
        "# Answer: Use random and sort.\n",
        "import random\n",
        "nums = random.sample(range(1, 101), 5)\n",
        "nums.sort()\n",
        "print(nums)\n"
      ],
      "metadata": {
        "colab": {
          "base_uri": "https://localhost:8080/"
        },
        "id": "v09KIIHHqwkp",
        "outputId": "607bae31-cf42-488c-d07b-e21a332ecc10"
      },
      "execution_count": 28,
      "outputs": [
        {
          "output_type": "stream",
          "name": "stdout",
          "text": [
            "[6, 50, 67, 82, 91]\n"
          ]
        }
      ]
    },
    {
      "cell_type": "code",
      "source": [
        "# Q28: Write a code to create a list with strings and print the element at the third index\n",
        "# Answer: Index 3 gives the fourth element.\n",
        "words = [\"apple\", \"banana\", \"cherry\", \"date\", \"fig\"]\n",
        "print(words[3])\n"
      ],
      "metadata": {
        "colab": {
          "base_uri": "https://localhost:8080/"
        },
        "id": "T7ydZmmXq0HK",
        "outputId": "8da7527b-70c0-456d-a623-290bf67855dc"
      },
      "execution_count": 29,
      "outputs": [
        {
          "output_type": "stream",
          "name": "stdout",
          "text": [
            "date\n"
          ]
        }
      ]
    },
    {
      "cell_type": "code",
      "source": [
        "# Q29: Write a code to combine two dictionaries into one and print the result\n",
        "# Answer: Use the update() method or unpacking (**).\n",
        "d1 = {\"a\": 1, \"b\": 2}\n",
        "d2 = {\"c\": 3, \"d\": 4}\n",
        "combined = {**d1, **d2}\n",
        "print(combined)\n"
      ],
      "metadata": {
        "colab": {
          "base_uri": "https://localhost:8080/"
        },
        "id": "izdeH3SQq2cZ",
        "outputId": "c1501ad6-3499-46ed-f2b3-e69949bcd089"
      },
      "execution_count": 30,
      "outputs": [
        {
          "output_type": "stream",
          "name": "stdout",
          "text": [
            "{'a': 1, 'b': 2, 'c': 3, 'd': 4}\n"
          ]
        }
      ]
    },
    {
      "cell_type": "code",
      "source": [
        "# Q30: Write a code to convert a list of strings into a set\n",
        "# Answer: Use the set() function.\n",
        "words = [\"apple\", \"banana\", \"apple\", \"cherry\"]\n",
        "unique_words = set(words)\n",
        "print(unique_words)\n"
      ],
      "metadata": {
        "colab": {
          "base_uri": "https://localhost:8080/"
        },
        "id": "vvSClrLwq5FD",
        "outputId": "de8b1777-e973-4b16-edbe-f0bc15f6420e"
      },
      "execution_count": 31,
      "outputs": [
        {
          "output_type": "stream",
          "name": "stdout",
          "text": [
            "{'apple', 'banana', 'cherry'}\n"
          ]
        }
      ]
    }
  ]
}